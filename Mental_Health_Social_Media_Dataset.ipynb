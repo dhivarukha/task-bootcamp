{
  "nbformat": 4,
  "nbformat_minor": 0,
  "metadata": {
    "colab": {
      "provenance": [],
      "authorship_tag": "ABX9TyN4bp/Yr+9MF5MJqeO5L75+",
      "include_colab_link": true
    },
    "kernelspec": {
      "name": "python3",
      "display_name": "Python 3"
    },
    "language_info": {
      "name": "python"
    }
  },
  "cells": [
    {
      "cell_type": "markdown",
      "metadata": {
        "id": "view-in-github",
        "colab_type": "text"
      },
      "source": [
        "<a href=\"https://colab.research.google.com/github/dhivarukha/task-bootcamp/blob/master/Mental_Health_Social_Media_Dataset.ipynb\" target=\"_parent\"><img src=\"https://colab.research.google.com/assets/colab-badge.svg\" alt=\"Open In Colab\"/></a>"
      ]
    },
    {
      "cell_type": "code",
      "source": [
        "import pandas as pd"
      ],
      "metadata": {
        "id": "Ja1M8u4SUCEH"
      },
      "execution_count": null,
      "outputs": []
    },
    {
      "cell_type": "code",
      "source": [
        "# Load dataset\n",
        "file_path = \"/content/sample_data/Mental Health Social Media Dataset.csv\"\n",
        "df = pd.read_csv(file_path)\n",
        "\n",
        "# Display the first few rows of the dataset\n",
        "print(df.head())\n",
        "print(df.info())"
      ],
      "metadata": {
        "colab": {
          "base_uri": "https://localhost:8080/"
        },
        "id": "HwxTy_VUF2x2",
        "outputId": "affcce29-92ec-475b-c7f6-ca55b1da01ba"
      },
      "execution_count": null,
      "outputs": [
        {
          "output_type": "stream",
          "name": "stdout",
          "text": [
            "            Timestamp  1. What is your age? 2. Gender 3. Relationship Status  \\\n",
            "0  4/18/2022 19:18:47                  21.0      Male      In a relationship   \n",
            "1  4/18/2022 19:19:28                  21.0    Female                 Single   \n",
            "2  4/18/2022 19:25:58                  21.0    Female                 Single   \n",
            "3  4/18/2022 19:29:43                  21.0    Female                 Single   \n",
            "4  4/18/2022 19:33:31                  21.0    Female                 Single   \n",
            "\n",
            "  4. Occupation Status 5. What type of organizations are you affiliated with?  \\\n",
            "0   University Student                                         University       \n",
            "1   University Student                                         University       \n",
            "2   University Student                                         University       \n",
            "3   University Student                                         University       \n",
            "4   University Student                                         University       \n",
            "\n",
            "  6. Do you use social media?  \\\n",
            "0                         Yes   \n",
            "1                         Yes   \n",
            "2                         Yes   \n",
            "3                         Yes   \n",
            "4                         Yes   \n",
            "\n",
            "  7. What social media platforms do you commonly use?  \\\n",
            "0  Facebook, Twitter, Instagram, YouTube, Discord...    \n",
            "1  Facebook, Twitter, Instagram, YouTube, Discord...    \n",
            "2            Facebook, Instagram, YouTube, Pinterest    \n",
            "3                                Facebook, Instagram    \n",
            "4                       Facebook, Instagram, YouTube    \n",
            "\n",
            "  8. What is the average time you spend on social media every day?  \\\n",
            "0                              Between 2 and 3 hours                 \n",
            "1                                  More than 5 hours                 \n",
            "2                              Between 3 and 4 hours                 \n",
            "3                                  More than 5 hours                 \n",
            "4                              Between 2 and 3 hours                 \n",
            "\n",
            "   9. How often do you find yourself using Social media without a specific purpose?  \\\n",
            "0                                                  5                                  \n",
            "1                                                  4                                  \n",
            "2                                                  3                                  \n",
            "3                                                  4                                  \n",
            "4                                                  3                                  \n",
            "\n",
            "   ...  11. Do you feel restless if you haven't used Social media in a while?  \\\n",
            "0  ...                                                  2                       \n",
            "1  ...                                                  2                       \n",
            "2  ...                                                  1                       \n",
            "3  ...                                                  1                       \n",
            "4  ...                                                  4                       \n",
            "\n",
            "   12. On a scale of 1 to 5, how easily distracted are you?  \\\n",
            "0                                                  5          \n",
            "1                                                  4          \n",
            "2                                                  2          \n",
            "3                                                  3          \n",
            "4                                                  4          \n",
            "\n",
            "   13. On a scale of 1 to 5, how much are you bothered by worries?  \\\n",
            "0                                                  2                 \n",
            "1                                                  5                 \n",
            "2                                                  5                 \n",
            "3                                                  5                 \n",
            "4                                                  5                 \n",
            "\n",
            "   14. Do you find it difficult to concentrate on things?  \\\n",
            "0                                                  5        \n",
            "1                                                  4        \n",
            "2                                                  4        \n",
            "3                                                  3        \n",
            "4                                                  5        \n",
            "\n",
            "   15. On a scale of 1-5, how often do you compare yourself to other successful people through the use of social media?  \\\n",
            "0                                                  2                                                                      \n",
            "1                                                  5                                                                      \n",
            "2                                                  3                                                                      \n",
            "3                                                  5                                                                      \n",
            "4                                                  3                                                                      \n",
            "\n",
            "   16. Following the previous question, how do you feel about these comparisons, generally speaking?  \\\n",
            "0                                                  3                                                   \n",
            "1                                                  1                                                   \n",
            "2                                                  3                                                   \n",
            "3                                                  1                                                   \n",
            "4                                                  3                                                   \n",
            "\n",
            "   17. How often do you look to seek validation from features of social media?  \\\n",
            "0                                                  2                             \n",
            "1                                                  1                             \n",
            "2                                                  1                             \n",
            "3                                                  2                             \n",
            "4                                                  3                             \n",
            "\n",
            "   18. How often do you feel depressed or down?  \\\n",
            "0                                             5   \n",
            "1                                             5   \n",
            "2                                             4   \n",
            "3                                             4   \n",
            "4                                             4   \n",
            "\n",
            "   19. On a scale of 1 to 5, how frequently does your interest in daily activities fluctuate?  \\\n",
            "0                                                  4                                            \n",
            "1                                                  4                                            \n",
            "2                                                  2                                            \n",
            "3                                                  3                                            \n",
            "4                                                  4                                            \n",
            "\n",
            "   20. On a scale of 1 to 5, how often do you face issues regarding sleep?  \n",
            "0                                                  5                        \n",
            "1                                                  5                        \n",
            "2                                                  5                        \n",
            "3                                                  2                        \n",
            "4                                                  1                        \n",
            "\n",
            "[5 rows x 21 columns]\n",
            "<class 'pandas.core.frame.DataFrame'>\n",
            "RangeIndex: 481 entries, 0 to 480\n",
            "Data columns (total 21 columns):\n",
            " #   Column                                                                                                                Non-Null Count  Dtype  \n",
            "---  ------                                                                                                                --------------  -----  \n",
            " 0   Timestamp                                                                                                             481 non-null    object \n",
            " 1   1. What is your age?                                                                                                  481 non-null    float64\n",
            " 2   2. Gender                                                                                                             481 non-null    object \n",
            " 3   3. Relationship Status                                                                                                481 non-null    object \n",
            " 4   4. Occupation Status                                                                                                  481 non-null    object \n",
            " 5   5. What type of organizations are you affiliated with?                                                                451 non-null    object \n",
            " 6   6. Do you use social media?                                                                                           481 non-null    object \n",
            " 7   7. What social media platforms do you commonly use?                                                                   481 non-null    object \n",
            " 8   8. What is the average time you spend on social media every day?                                                      481 non-null    object \n",
            " 9   9. How often do you find yourself using Social media without a specific purpose?                                      481 non-null    int64  \n",
            " 10  10. How often do you get distracted by Social media when you are busy doing something?                                481 non-null    int64  \n",
            " 11  11. Do you feel restless if you haven't used Social media in a while?                                                 481 non-null    int64  \n",
            " 12  12. On a scale of 1 to 5, how easily distracted are you?                                                              481 non-null    int64  \n",
            " 13  13. On a scale of 1 to 5, how much are you bothered by worries?                                                       481 non-null    int64  \n",
            " 14  14. Do you find it difficult to concentrate on things?                                                                481 non-null    int64  \n",
            " 15  15. On a scale of 1-5, how often do you compare yourself to other successful people through the use of social media?  481 non-null    int64  \n",
            " 16  16. Following the previous question, how do you feel about these comparisons, generally speaking?                     481 non-null    int64  \n",
            " 17  17. How often do you look to seek validation from features of social media?                                           481 non-null    int64  \n",
            " 18  18. How often do you feel depressed or down?                                                                          481 non-null    int64  \n",
            " 19  19. On a scale of 1 to 5, how frequently does your interest in daily activities fluctuate?                            481 non-null    int64  \n",
            " 20  20. On a scale of 1 to 5, how often do you face issues regarding sleep?                                               481 non-null    int64  \n",
            "dtypes: float64(1), int64(12), object(8)\n",
            "memory usage: 79.0+ KB\n",
            "None\n"
          ]
        }
      ]
    },
    {
      "cell_type": "code",
      "source": [
        "# Pilih kolom relevan\n",
        "data = df[['8. What is the average time you spend on social media every day?',\n",
        "           '18. How often do you feel depressed or down?']]\n",
        "\n",
        "# Ubah nama kolom untuk kemudahan analisis\n",
        "data.columns = ['Time on Social Media', 'Depression Frequency']\n",
        "\n",
        "# Hapus nilai kosong\n",
        "data = data.dropna()\n",
        "\n",
        "print(data.head())\n"
      ],
      "metadata": {
        "id": "CmPpx6lMG4GV",
        "outputId": "de02af16-34de-48c7-9648-8617b7fef30b",
        "colab": {
          "base_uri": "https://localhost:8080/"
        }
      },
      "execution_count": null,
      "outputs": [
        {
          "output_type": "stream",
          "name": "stdout",
          "text": [
            "    Time on Social Media  Depression Frequency\n",
            "0  Between 2 and 3 hours                     5\n",
            "1      More than 5 hours                     5\n",
            "2  Between 3 and 4 hours                     4\n",
            "3      More than 5 hours                     4\n",
            "4  Between 2 and 3 hours                     4\n"
          ]
        }
      ]
    },
    {
      "cell_type": "code",
      "source": [
        "# Mapping untuk kolom 'Depression Frequency'\n",
        "depression_mapping = {\n",
        "    'Never': 0,\n",
        "    'Rarely': 1,\n",
        "    'Sometimes': 2,\n",
        "    'Often': 3,\n",
        "    'Always': 4\n",
        "}\n",
        "data['Depression Frequency'] = data['Depression Frequency'].map(depression_mapping)\n",
        "\n",
        "print(data.head())\n"
      ],
      "metadata": {
        "id": "1f9ysioYG8on",
        "outputId": "c84fe099-c87a-42df-b707-385e075a99f4",
        "colab": {
          "base_uri": "https://localhost:8080/"
        }
      },
      "execution_count": null,
      "outputs": [
        {
          "output_type": "stream",
          "name": "stdout",
          "text": [
            "    Time on Social Media  Depression Frequency\n",
            "0  Between 2 and 3 hours                   NaN\n",
            "1      More than 5 hours                   NaN\n",
            "2  Between 3 and 4 hours                   NaN\n",
            "3      More than 5 hours                   NaN\n",
            "4  Between 2 and 3 hours                   NaN\n"
          ]
        }
      ]
    },
    {
      "cell_type": "code",
      "source": [
        "from scipy.stats import pearsonr"
      ],
      "metadata": {
        "id": "kmwvTnJHHjSr"
      },
      "execution_count": null,
      "outputs": []
    },
    {
      "cell_type": "code",
      "source": [
        "# Pilih kolom relevan\n",
        "data = df[['8. What is the average time you spend on social media every day?',\n",
        "           '18. How often do you feel depressed or down?']]\n",
        "\n",
        "# Ubah nama kolom untuk kemudahan analisis\n",
        "data.columns = ['Time on Social Media', 'Depression Frequency']\n",
        "\n",
        "# --- DIAGNOSE EMPTY DATAFRAME ---\n",
        "# Print the number of rows before dropping NA\n",
        "print(f\"Number of rows before dropping NA: {len(data)}\")\n",
        "\n",
        "# Hapus nilai kosong\n",
        "data = data.dropna()\n",
        "\n",
        "# Print the number of rows after dropping NA and check if it's less than 2\n",
        "print(f\"Number of rows after dropping NA: {len(data)}\")\n",
        "\n",
        "# --- HANDLE EMPTY DATAFRAME ---\n",
        "if len(data) < 2:\n",
        "    raise ValueError(\"Not enough data points to calculate Pearson correlation after dropping NA. Check your data for missing values.\")\n",
        "\n",
        "print(data.head())\n",
        "\n",
        "# ... (rest of your code) ..."
      ],
      "metadata": {
        "id": "X7DttkpVItMJ",
        "outputId": "a30ce3c1-3e51-48b0-a859-be1ad8831a26",
        "colab": {
          "base_uri": "https://localhost:8080/"
        }
      },
      "execution_count": null,
      "outputs": [
        {
          "output_type": "stream",
          "name": "stdout",
          "text": [
            "Number of rows before dropping NA: 481\n",
            "Number of rows after dropping NA: 481\n",
            "    Time on Social Media  Depression Frequency\n",
            "0  Between 2 and 3 hours                     5\n",
            "1      More than 5 hours                     5\n",
            "2  Between 3 and 4 hours                     4\n",
            "3      More than 5 hours                     4\n",
            "4  Between 2 and 3 hours                     4\n"
          ]
        }
      ]
    },
    {
      "cell_type": "code",
      "source": [
        "print(data.columns)"
      ],
      "metadata": {
        "id": "5k4B44FzJgAk",
        "outputId": "74d28c20-b288-4afd-bae6-cefa3dac9aac",
        "colab": {
          "base_uri": "https://localhost:8080/"
        }
      },
      "execution_count": null,
      "outputs": [
        {
          "output_type": "stream",
          "name": "stdout",
          "text": [
            "Index(['Time on Social Media', 'Depression Frequency'], dtype='object')\n"
          ]
        }
      ]
    }
  ]
}