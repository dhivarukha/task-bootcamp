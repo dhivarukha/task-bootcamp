{
  "cells": [
    {
      "cell_type": "code",
      "source": [
        "#Homework 1\n",
        "\n",
        "numbers=[4,5,10,20,40,60,80]\n",
        "new_list=[]\n",
        "for number in numbers:\n",
        "  if number > 10:\n",
        "    new_list.append(number)\n",
        "print(new_list)"
      ],
      "metadata": {
        "colab": {
          "base_uri": "https://localhost:8080/"
        },
        "id": "xCU_6a9Ipmbg",
        "outputId": "954acad6-422b-415c-b8dd-03c16b512fd7"
      },
      "id": "xCU_6a9Ipmbg",
      "execution_count": 3,
      "outputs": [
        {
          "output_type": "stream",
          "name": "stdout",
          "text": [
            "[20, 40, 60, 80]\n"
          ]
        }
      ]
    },
    {
      "cell_type": "code",
      "source": [
        "#Homework 2\n",
        "def luas_lingkar(r):\n",
        "  phi=22/7\n",
        "  luas=phi*r*r\n",
        "  return luas"
      ],
      "metadata": {
        "id": "90ID25XCrJCq"
      },
      "id": "90ID25XCrJCq",
      "execution_count": 4,
      "outputs": []
    },
    {
      "cell_type": "code",
      "source": [
        "print(luas_lingkar(80))"
      ],
      "metadata": {
        "colab": {
          "base_uri": "https://localhost:8080/"
        },
        "id": "fS0-MvJPsxFR",
        "outputId": "bfac0b09-0521-44eb-9f76-32827c430d3e"
      },
      "id": "fS0-MvJPsxFR",
      "execution_count": 5,
      "outputs": [
        {
          "output_type": "stream",
          "name": "stdout",
          "text": [
            "20114.285714285714\n"
          ]
        }
      ]
    },
    {
      "cell_type": "code",
      "source": [
        "#Homework 3\n",
        "def addition (a,b):\n",
        "  return a+b\n",
        "def multiplication (a,b):\n",
        "  return a*b\n",
        "def highest(a, b):\n",
        "    if a > b:\n",
        "        return a\n",
        "    else:\n",
        "        return b"
      ],
      "metadata": {
        "id": "dEf7yw-WtTgo"
      },
      "id": "dEf7yw-WtTgo",
      "execution_count": 6,
      "outputs": []
    },
    {
      "cell_type": "code",
      "source": [
        "print(addition(98,50))\n",
        "print(multiplication(55,21))\n",
        "print(highest(103,37))"
      ],
      "metadata": {
        "colab": {
          "base_uri": "https://localhost:8080/"
        },
        "id": "AB7_bvpduSyG",
        "outputId": "bd6207fa-2ec9-4032-b3f5-5181d8d256ad"
      },
      "id": "AB7_bvpduSyG",
      "execution_count": 8,
      "outputs": [
        {
          "output_type": "stream",
          "name": "stdout",
          "text": [
            "148\n",
            "1155\n",
            "103\n"
          ]
        }
      ]
    },
    {
      "cell_type": "code",
      "source": [
        "## Bikin Kasir-Kasiran ##\n",
        "\n",
        "def IBL_Store():\n",
        "  print(\"=== Selamat Datang di IBL Store ===\")\n",
        "    # Daftar barang dengan harga\n",
        "  barang = {\n",
        "        \"Jersey Pelita Jaya\": 539000,\n",
        "        \"Jersey Dewa United\": 539000,\n",
        "        \"Jersey Prawira Bandung\": 539000,\n",
        "        \"Kaos Yudha Prawira\": 249000,\n",
        "        \"Kaos Arigi Pelita\": 249000,\n",
        "        \"Kaos Prosper Dewa\": 249000,\n",
        "        \"Sepatu Ardiles\": 789000,\n",
        "        \"Kaos Kaki IBL x Stayhoops\": 129000,\n",
        "        \"Sleeve IBL x Stayhoops\": 89000\n",
        "    }\n",
        "\n",
        "    # Input nama IBL Fans\n",
        "  nama_pelanggan = input(\"Masukkan nama pelanggan: \")\n",
        "  print(f\"Selamat datang, {nama_pelanggan}!\")\n",
        "\n",
        "    # Daftar barang yang dibeli IBL Fans\n",
        "  Order = []\n",
        "\n",
        "  while True:\n",
        "      print(\"\\nDaftar Barang Tersedia:\")\n",
        "      for item, harga in barang.items():\n",
        "        print(f\"{item}: Rp{harga}\")\n",
        "\n",
        "      # Input barang yang ingin dibeli\n",
        "      nama_item = input(\"\\nMasukkan nama barang yang ingin dibeli (atau ketik 'selesai' untuk selesai): \")\n",
        "\n",
        "      if nama_item.lower() == \"selesai\":\n",
        "          break\n",
        "\n",
        "      if nama_item in barang:\n",
        "          jumlah_item = int(input(f\"Jumlah {nama_item} yang ingin dibeli: \"))\n",
        "          Order.append({\"nama_item\": nama_item, \"jumlah\": jumlah_item, \"harga_satuan\": barang[nama_item]})\n",
        "      else:\n",
        "          print(\"Barang tidak ditemukan, coba lagi.\")\n",
        "\n",
        "    # Hitung total item dan total harga\n",
        "  total_item = sum(item[\"jumlah\"] for item in Order)\n",
        "  total_harga = sum(item[\"jumlah\"] * item[\"harga_satuan\"] for item in Order)\n",
        "\n",
        "    # Cetak rincian pesanan\n",
        "  print(\"\\n=== Order Details ===\")\n",
        "  print(f\"Nama Pelanggan: {nama_pelanggan}\")\n",
        "  print(\"Order:\")\n",
        "  for item in Order:\n",
        "   print(f\"- {item['nama_item']} (x{item['jumlah']}) = Rp{item['jumlah'] * item['harga_satuan']}\")\n",
        "\n",
        "  print(f\"Total jumlah item: {total_item}\")\n",
        "  print(f\"Total harga yang harus dibayar: Rp{total_harga}\")\n",
        "  print(\"\\nTerima kasih IBL Fans telah berbelanja!\")\n",
        "\n",
        "# Jalankan fungsi kasir\n",
        "IBL_Store()\n"
      ],
      "metadata": {
        "colab": {
          "base_uri": "https://localhost:8080/"
        },
        "id": "EIno_Wm1uvKc",
        "outputId": "af13c2a0-e1c6-4ec3-e91d-36db43db177b"
      },
      "id": "EIno_Wm1uvKc",
      "execution_count": null,
      "outputs": [
        {
          "output_type": "stream",
          "name": "stdout",
          "text": [
            "=== Selamat Datang di IBL Store ===\n"
          ]
        }
      ]
    }
  ],
  "metadata": {
    "colab": {
      "provenance": []
    },
    "language_info": {
      "name": "python"
    },
    "kernelspec": {
      "name": "python3",
      "display_name": "Python 3"
    }
  },
  "nbformat": 4,
  "nbformat_minor": 5
}