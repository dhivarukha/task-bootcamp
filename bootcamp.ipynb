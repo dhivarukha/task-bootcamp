{
  "cells": [
    {
      "cell_type": "code",
      "source": [
        "#Homework 1\n",
        "\n",
        "numbers=[4,5,10,20,40,60,80]\n",
        "new_list=[]\n",
        "for number in numbers:\n",
        "  if number > 10:\n",
        "    new_list.append(number)\n",
        "print(new_list)"
      ],
      "metadata": {
        "colab": {
          "base_uri": "https://localhost:8080/"
        },
        "id": "xCU_6a9Ipmbg",
        "outputId": "954acad6-422b-415c-b8dd-03c16b512fd7"
      },
      "id": "xCU_6a9Ipmbg",
      "execution_count": 3,
      "outputs": [
        {
          "output_type": "stream",
          "name": "stdout",
          "text": [
            "[20, 40, 60, 80]\n"
          ]
        }
      ]
    },
    {
      "cell_type": "code",
      "source": [
        "#Homework2\n",
        "def luas_lingkar(r):\n",
        "  phi=22/7\n",
        "  luas=phi*r*r\n",
        "  return luas"
      ],
      "metadata": {
        "id": "90ID25XCrJCq"
      },
      "id": "90ID25XCrJCq",
      "execution_count": 4,
      "outputs": []
    },
    {
      "cell_type": "code",
      "source": [
        "print(luas_lingkar(80))"
      ],
      "metadata": {
        "id": "fS0-MvJPsxFR",
        "outputId": "bfac0b09-0521-44eb-9f76-32827c430d3e",
        "colab": {
          "base_uri": "https://localhost:8080/"
        }
      },
      "id": "fS0-MvJPsxFR",
      "execution_count": 5,
      "outputs": [
        {
          "output_type": "stream",
          "name": "stdout",
          "text": [
            "20114.285714285714\n"
          ]
        }
      ]
    }
  ],
  "metadata": {
    "colab": {
      "provenance": []
    },
    "language_info": {
      "name": "python"
    },
    "kernelspec": {
      "name": "python3",
      "display_name": "Python 3"
    }
  },
  "nbformat": 4,
  "nbformat_minor": 5
}