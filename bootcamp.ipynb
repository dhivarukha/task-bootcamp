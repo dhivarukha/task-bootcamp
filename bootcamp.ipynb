{
  "cells": [
    {
      "cell_type": "code",
      "source": [
        "#Homework 1\n",
        "\n",
        "numbers=[4,5,10,20,40,60,80]\n",
        "new_list=[]\n",
        "for number in numbers:\n",
        "  if number > 10:\n",
        "    new_list.append(number)\n",
        "print(new_list)"
      ],
      "metadata": {
        "id": "xCU_6a9Ipmbg",
        "outputId": "954acad6-422b-415c-b8dd-03c16b512fd7",
        "colab": {
          "base_uri": "https://localhost:8080/"
        }
      },
      "id": "xCU_6a9Ipmbg",
      "execution_count": 3,
      "outputs": [
        {
          "output_type": "stream",
          "name": "stdout",
          "text": [
            "[20, 40, 60, 80]\n"
          ]
        }
      ]
    }
  ],
  "metadata": {
    "colab": {
      "provenance": []
    },
    "language_info": {
      "name": "python"
    },
    "kernelspec": {
      "name": "python3",
      "display_name": "Python 3"
    }
  },
  "nbformat": 4,
  "nbformat_minor": 5
}