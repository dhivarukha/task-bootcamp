{
  "cells": [
    {
      "cell_type": "code",
      "source": [
        "#Homework 1\n",
        "\n",
        "numbers=[4,5,10,20,40,60,80]\n",
        "new_list=[]\n",
        "for number in numbers:\n",
        "  if number > 10:\n",
        "    new_list.append(number)\n",
        "print(new_list)"
      ],
      "metadata": {
        "colab": {
          "base_uri": "https://localhost:8080/"
        },
        "id": "xCU_6a9Ipmbg",
        "outputId": "954acad6-422b-415c-b8dd-03c16b512fd7"
      },
      "id": "xCU_6a9Ipmbg",
      "execution_count": 3,
      "outputs": [
        {
          "output_type": "stream",
          "name": "stdout",
          "text": [
            "[20, 40, 60, 80]\n"
          ]
        }
      ]
    },
    {
      "cell_type": "code",
      "source": [
        "#Homework 2\n",
        "def luas_lingkar(r):\n",
        "  phi=22/7\n",
        "  luas=phi*r*r\n",
        "  return luas"
      ],
      "metadata": {
        "id": "90ID25XCrJCq"
      },
      "id": "90ID25XCrJCq",
      "execution_count": 4,
      "outputs": []
    },
    {
      "cell_type": "code",
      "source": [
        "print(luas_lingkar(80))"
      ],
      "metadata": {
        "colab": {
          "base_uri": "https://localhost:8080/"
        },
        "id": "fS0-MvJPsxFR",
        "outputId": "bfac0b09-0521-44eb-9f76-32827c430d3e"
      },
      "id": "fS0-MvJPsxFR",
      "execution_count": 5,
      "outputs": [
        {
          "output_type": "stream",
          "name": "stdout",
          "text": [
            "20114.285714285714\n"
          ]
        }
      ]
    },
    {
      "cell_type": "code",
      "source": [
        "#Homework 3\n",
        "def addition (a,b):\n",
        "  return a+b\n",
        "def multiplication (a,b):\n",
        "  return a*b\n",
        "def highest(a, b):\n",
        "    if a > b:\n",
        "        return a\n",
        "    else:\n",
        "        return b"
      ],
      "metadata": {
        "id": "dEf7yw-WtTgo"
      },
      "id": "dEf7yw-WtTgo",
      "execution_count": 6,
      "outputs": []
    },
    {
      "cell_type": "code",
      "source": [
        "print(addition(98,50))\n",
        "print(multiplication(55,21))\n",
        "print(highest(103,37))"
      ],
      "metadata": {
        "id": "AB7_bvpduSyG",
        "outputId": "bd6207fa-2ec9-4032-b3f5-5181d8d256ad",
        "colab": {
          "base_uri": "https://localhost:8080/"
        }
      },
      "id": "AB7_bvpduSyG",
      "execution_count": 8,
      "outputs": [
        {
          "output_type": "stream",
          "name": "stdout",
          "text": [
            "148\n",
            "1155\n",
            "103\n"
          ]
        }
      ]
    }
  ],
  "metadata": {
    "colab": {
      "provenance": []
    },
    "language_info": {
      "name": "python"
    },
    "kernelspec": {
      "name": "python3",
      "display_name": "Python 3"
    }
  },
  "nbformat": 4,
  "nbformat_minor": 5
}